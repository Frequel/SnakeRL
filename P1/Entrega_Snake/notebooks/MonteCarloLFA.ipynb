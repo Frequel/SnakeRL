{
 "cells": [
  {
   "cell_type": "markdown",
   "metadata": {},
   "source": [
    "# Importações e funções auxiliares"
   ]
  },
  {
   "cell_type": "code",
   "execution_count": 2,
   "metadata": {},
   "outputs": [
    {
     "name": "stdout",
     "output_type": "stream",
     "text": [
      "pygame 2.0.1 (SDL 2.0.14, Python 3.7.7)\n",
      "Hello from the pygame community. https://www.pygame.org/contribute.html\n"
     ]
    }
   ],
   "source": [
    "import time\n",
    "\n",
    "import matplotlib.pyplot as plt\n",
    "import numpy as np\n",
    "import pandas as pd\n",
    "import pygame\n",
    "import seaborn as sns\n",
    "import random\n",
    "from collections import defaultdict\n",
    "\n",
    "# our classes\n",
    "from agentLFA import AgentLFA, QLearningAgentLFA, MonteCarloAgentLFA\n",
    "from environment import Environment\n",
    "from screen import Screen\n",
    "\n",
    "# define environment\n",
    "ACTION_SPACE = np.eye(3)\n",
    "NUM_ACTIONS = 3\n",
    "NUM_STATES = 2 ** 11\n",
    "\n",
    "# Set options to activate or deactivate the game view, and its speed\n",
    "pygame.font.init()\n",
    "\n",
    "def plot_metrics(metrics, filepath=None):\n",
    "    formatted_dict = {'episodes': [],\n",
    "                      'metrics': [],\n",
    "                      'results': []}\n",
    "\n",
    "    n = len(metrics['episodes'])\n",
    "    for i in range(n):\n",
    "        episode = metrics['episodes'][i]\n",
    "        score = metrics['scores'][i]\n",
    "        reward = metrics['rewards'][i]\n",
    "\n",
    "        formatted_dict['episodes'].append(episode)\n",
    "        formatted_dict['metrics'].append('score')\n",
    "        formatted_dict['results'].append(score)\n",
    "\n",
    "        formatted_dict['episodes'].append(episode)\n",
    "        formatted_dict['metrics'].append('reward')\n",
    "        formatted_dict['results'].append(reward)\n",
    "\n",
    "    df_metrics = pd.DataFrame(formatted_dict)\n",
    "    sns.lineplot(data=df_metrics, x='episodes', y='results', hue='metrics')\n",
    "    if filepath is None:\n",
    "        plt.show()\n",
    "    else:\n",
    "        plt.savefig(filepath)\n",
    "\n",
    "\n",
    "def decode_state(encoded_state):\n",
    "    \"\"\"\n",
    "    Decode a binary representation of a state into its decimal base;\n",
    "    \n",
    "    encoded_state: an array of 0s and 1s representing a binary value\n",
    "    \n",
    "    return: decimal value\n",
    "    \"\"\"\n",
    "    decoded = ''\n",
    "    for s in encoded_state:\n",
    "        decoded += str(s)\n",
    "\n",
    "    return int(decoded, 2)\n",
    "\n",
    "def decode_action(encoded_action):\n",
    "    if isinstance(encoded_action, np.ndarray):\n",
    "        return encoded_action.argmax()\n",
    "    return encoded_action\n",
    "\n",
    "def default_reward(env):\n",
    "    \"\"\"\n",
    "    Return the reward.\n",
    "    The reward is:\n",
    "        -10 when Snake crashes.\n",
    "        +10 when Snake eats food\n",
    "        0 otherwise\n",
    "    \"\"\"\n",
    "    reward = 0\n",
    "    if env.game.crash:\n",
    "        reward = -10\n",
    "    elif env.player.eaten:\n",
    "        reward = 10\n",
    "\n",
    "    return reward\n",
    "\n",
    "from scipy.spatial import distance\n",
    "\n",
    "def reward_euclidean(env):\n",
    "    player_pos = [env.player.x, env.player.y]\n",
    "    food_pos = [env.food.x_food, env.food.y_food]\n",
    "    dist = distance.euclidean(player_pos, food_pos)\n",
    "    reward = 0\n",
    "    if env.game.crash:\n",
    "        reward = -10000\n",
    "    elif env.player.eaten:\n",
    "        reward = 10000\n",
    "    else:\n",
    "        if dist > 100:\n",
    "            reward = (-1*dist)/10\n",
    "        if dist <= 100:\n",
    "            reward = (100-dist)/10\n",
    "\n",
    "    return reward"
   ]
  },
  {
   "cell_type": "markdown",
   "metadata": {},
   "source": [
    "\n",
    "\n",
    "# Monte Carlo"
   ]
  },
  {
   "cell_type": "code",
   "execution_count": 4,
   "metadata": {},
   "outputs": [],
   "source": [
    "def run_monte_carlo(agent: AgentLFA, reward_function, episodes, display, speed, verbose=True, first_visit=False):\n",
    "    # setting random seed\n",
    "    random.seed(42)\n",
    "    np.random.seed(42)\n",
    "\n",
    "    if display:\n",
    "        pygame.init()\n",
    "\n",
    "    env = Environment(440, 440, reward_function)\n",
    "    screen = Screen(env)\n",
    "\n",
    "    episode = 0\n",
    "    metrics = {'episodes': [],\n",
    "               'scores': [],\n",
    "               'rewards': []}\n",
    "\n",
    "    returns_sum = defaultdict(float)\n",
    "    returns_count = defaultdict(float)\n",
    "\n",
    "    start = time.time()\n",
    "    while episode < episodes:\n",
    "        states_and_actions_visited = []\n",
    "\n",
    "        if display:\n",
    "            for event in pygame.event.get():\n",
    "                if event.type == pygame.QUIT:\n",
    "                    pygame.quit()\n",
    "                    quit()\n",
    "\n",
    "            screen.display()\n",
    "\n",
    "        state1, done = env.reset()\n",
    "        #state1 = decode_state(state1)\n",
    "        action1 = agent.choose_action(state1)\n",
    "        episode_reward = 0\n",
    "        while not done:\n",
    "            # Getting the next state, reward\n",
    "            state2, reward, done = env.step(action1)\n",
    "            #state2 = decode_state(state2)\n",
    "            # Choosing the next action\n",
    "            action2 = agent.choose_action(state2)\n",
    "\n",
    "            # Learning the Q-value\n",
    "            #decoded_action1 = decode_action(action1)\n",
    "            #decoded_action2 = decode_action(action2)\n",
    "            #agent.update(state1, state2, reward, decoded_action1, decoded_action2)\n",
    "\n",
    "            state1 = state2\n",
    "            action1 = action2\n",
    "            episode_reward += reward\n",
    "\n",
    "            if display:\n",
    "                screen.display()\n",
    "                pygame.time.wait(speed)\n",
    "\n",
    "            states_and_actions_visited.append((state2, action2, reward))\n",
    "\n",
    "            end = time.time()\n",
    "            diff = end - start\n",
    "            if diff > 600: # 10min\n",
    "                break\n",
    "\n",
    "        # Acabou o episódio, hora de aprender\n",
    "        G = 0\n",
    "        for i, step in enumerate(states_and_actions_visited[::-1]):\n",
    "            state, action, r = step\n",
    "            G = agent.gamma*G + r\n",
    "\n",
    "            do_update = True\n",
    "\n",
    "            if first_visit:\n",
    "                if state in [x[0] for x in states_and_actions_visited[::-1][len(states_and_actions_visited)-i:]]:\n",
    "                    do_update = False\n",
    "\n",
    "            if do_update:\n",
    "                sa_pair = (decode_state(step[0]), decode_action(step[1]))\n",
    "\n",
    "                if sa_pair in returns_sum:\n",
    "                    returns_sum[sa_pair] += G\n",
    "                else:\n",
    "                    returns_sum[sa_pair] = G\n",
    "\n",
    "                if sa_pair in returns_count:\n",
    "                    returns_count[sa_pair] += 1.0\n",
    "                else:\n",
    "                    returns_count[sa_pair] = 1\n",
    "\n",
    "                average = returns_sum[sa_pair] / returns_count[sa_pair]\n",
    "                agent.update(average, state, sa_pair[1])\n",
    "\n",
    "\n",
    "        # Incrementar episódios e ir guardando as nossas métricas\n",
    "        episode += 1\n",
    "        if verbose:\n",
    "            print(f'Game {episode}      Score: {env.game.score}')\n",
    "\n",
    "        mean_reward = episode_reward/episodes\n",
    "        metrics['episodes'].append(episode)\n",
    "        metrics['rewards'].append(mean_reward)\n",
    "        metrics['scores'].append(env.game.score)\n",
    "\n",
    "        end = time.time()\n",
    "        diff = end - start\n",
    "        if diff > 600: # 10min\n",
    "            break\n",
    "\n",
    "\n",
    "    return metrics"
   ]
  },
  {
   "cell_type": "code",
   "execution_count": 6,
   "metadata": {},
   "outputs": [],
   "source": [
    "import math\n",
    "from scipy.spatial import distance\n",
    "\n",
    "def reward_euclidean(env):\n",
    "    player_pos = [env.player.x, env.player.y]\n",
    "    food_pos = [env.food.x_food, env.food.y_food]\n",
    "    dist = distance.euclidean(player_pos, food_pos)\n",
    "    reward = 0\n",
    "    if env.game.crash:\n",
    "        reward = -10000\n",
    "    elif env.player.eaten:\n",
    "        reward = 10000\n",
    "    else:\n",
    "        if dist > 100:\n",
    "            reward = (-1*dist)/10\n",
    "        if dist <= 100:\n",
    "            reward = (100-dist)/10\n",
    "\n",
    "    return reward"
   ]
  },
  {
   "cell_type": "markdown",
   "metadata": {},
   "source": [
    "### First Visit"
   ]
  },
  {
   "cell_type": "code",
   "execution_count": 5,
   "metadata": {},
   "outputs": [
    {
     "name": "stdout",
     "output_type": "stream",
     "text": [
      "Game 1      Score: 0\n",
      "Game 2      Score: 1\n",
      "Game 3      Score: 1\n",
      "Game 4      Score: 2\n",
      "Game 5      Score: 1\n",
      "Game 6      Score: 0\n",
      "Game 7      Score: 1\n",
      "Game 8      Score: 1\n",
      "Game 9      Score: 1\n",
      "Game 10      Score: 1\n",
      "Game 11      Score: 0\n",
      "Game 12      Score: 0\n",
      "Game 13      Score: 0\n",
      "Game 14      Score: 0\n",
      "Game 15      Score: 0\n",
      "Game 16      Score: 0\n",
      "Game 17      Score: 0\n",
      "Game 18      Score: 0\n",
      "Game 19      Score: 0\n",
      "Game 20      Score: 0\n",
      "Game 21      Score: 1\n",
      "Game 22      Score: 0\n",
      "Game 23      Score: 0\n",
      "Game 24      Score: 1\n",
      "Game 25      Score: 0\n",
      "Game 26      Score: 0\n",
      "Game 27      Score: 0\n",
      "Game 28      Score: 1\n",
      "Game 29      Score: 1\n",
      "Game 30      Score: 0\n",
      "Game 31      Score: 1\n",
      "Game 32      Score: 1\n",
      "Game 33      Score: 1\n",
      "Game 34      Score: 1\n",
      "Game 35      Score: 0\n",
      "Game 36      Score: 0\n",
      "Game 37      Score: 1\n",
      "Game 38      Score: 1\n",
      "Game 39      Score: 1\n",
      "Game 40      Score: 1\n",
      "Game 41      Score: 1\n",
      "Game 42      Score: 1\n",
      "Game 43      Score: 0\n",
      "Game 44      Score: 1\n",
      "Game 45      Score: 1\n",
      "Game 46      Score: 0\n",
      "Game 47      Score: 1\n",
      "Game 48      Score: 1\n",
      "Game 49      Score: 0\n",
      "Game 50      Score: 1\n",
      "Game 51      Score: 0\n",
      "Game 52      Score: 1\n",
      "Game 53      Score: 0\n",
      "Game 54      Score: 1\n",
      "Game 55      Score: 1\n",
      "Game 56      Score: 1\n",
      "Game 57      Score: 0\n",
      "Game 58      Score: 1\n",
      "Game 59      Score: 0\n",
      "Game 60      Score: 1\n",
      "Game 61      Score: 1\n",
      "Game 62      Score: 0\n",
      "Game 63      Score: 1\n",
      "Game 64      Score: 0\n",
      "Game 65      Score: 0\n",
      "Game 66      Score: 1\n",
      "Game 67      Score: 0\n",
      "Game 68      Score: 0\n",
      "Game 69      Score: 1\n",
      "Game 70      Score: 0\n",
      "Game 71      Score: 1\n",
      "Game 72      Score: 0\n",
      "Game 73      Score: 1\n",
      "Game 74      Score: 1\n",
      "Game 75      Score: 1\n",
      "Game 76      Score: 0\n",
      "Game 77      Score: 1\n",
      "Game 78      Score: 2\n",
      "Game 79      Score: 1\n",
      "Game 80      Score: 1\n",
      "Game 81      Score: 1\n",
      "Game 82      Score: 1\n",
      "Game 83      Score: 1\n",
      "Game 84      Score: 1\n",
      "Game 85      Score: 0\n",
      "Game 86      Score: 0\n",
      "Game 87      Score: 1\n",
      "Game 88      Score: 1\n",
      "Game 89      Score: 1\n",
      "Game 90      Score: 1\n",
      "Game 91      Score: 1\n",
      "Game 92      Score: 0\n",
      "Game 93      Score: 1\n",
      "Game 94      Score: 1\n",
      "Game 95      Score: 1\n",
      "Game 96      Score: 0\n",
      "Game 97      Score: 1\n",
      "Game 98      Score: 0\n",
      "Game 99      Score: 1\n",
      "Game 100      Score: 1\n"
     ]
    },
    {
     "data": {
      "image/png": "[encoded data removed]",
      "text/plain": [
       "<Figure size 432x288 with 1 Axes>"
      ]
     },
     "metadata": {
      "needs_background": "light"
     },
     "output_type": "display_data"
    },
    {
     "name": "stdout",
     "output_type": "stream",
     "text": [
      "Run time: 121.146657705307 seconds\n",
      "Max. Score: 2\n",
      "Mean Last Scores: 0.68\n"
     ]
    }
   ],
   "source": [
    "N0 = 1\n",
    "gamma = 0.2\n",
    "\n",
    "# define agent\n",
    "monteCarloAgent = MonteCarloAgentLFA(N0, gamma, NUM_STATES, NUM_ACTIONS, ACTION_SPACE)\n",
    "\n",
    "start = time.time()\n",
    "metrics = run_monte_carlo(monteCarloAgent, reward_function=default_reward, episodes=100, speed=0, display=True, first_visit=False)\n",
    "end = time.time()\n",
    "\n",
    "plot_metrics(metrics, filepath=None)\n",
    "print('Run time:', (end-start), 'seconds')\n",
    "print('Max. Score:', max(metrics['scores']))\n",
    "print('Mean Last Scores:', np.mean(metrics['scores'][-50:]))"
   ]
  },
  {
   "cell_type": "code",
   "execution_count": null,
   "metadata": {},
   "outputs": [
    {
     "name": "stdout",
     "output_type": "stream",
     "text": [
      "Game 1      Score: 0\n",
      "Game 2      Score: 1\n"
     ]
    }
   ],
   "source": [
    "N0 = 1\n",
    "gamma = 0.5\n",
    "\n",
    "# define agent\n",
    "monteCarloAgent = MonteCarloAgentLFA(N0, gamma, NUM_STATES, NUM_ACTIONS, ACTION_SPACE)\n",
    "\n",
    "start = time.time()\n",
    "metrics = run_monte_carlo(monteCarloAgent, reward_function=default_reward, episodes=100, speed=0, display=True, first_visit=False)\n",
    "end = time.time()\n",
    "\n",
    "plot_metrics(metrics, filepath=None)\n",
    "print('Run time:', (end-start), 'seconds')\n",
    "print('Max. Score:', max(metrics['scores']))\n",
    "print('Mean Last Scores:', np.mean(metrics['scores'][-50:]))"
   ]
  },
  {
   "cell_type": "code",
   "execution_count": null,
   "metadata": {},
   "outputs": [
    {
     "name": "stdout",
     "output_type": "stream",
     "text": [
      "Game 1      Score: 0\n",
      "Game 2      Score: 1\n"
     ]
    }
   ],
   "source": [
    "N0 = 1\n",
    "gamma = 1\n",
    "\n",
    "# define agent\n",
    "monteCarloAgent = MonteCarloAgentLFA(N0, gamma, NUM_STATES, NUM_ACTIONS, ACTION_SPACE)\n",
    "\n",
    "start = time.time()\n",
    "metrics = run_monte_carlo(monteCarloAgent, reward_function=default_reward, episodes=100, speed=0, display=True, first_visit=False)\n",
    "end = time.time()\n",
    "\n",
    "plot_metrics(metrics, filepath=None)\n",
    "print('Run time:', (end-start), 'seconds')\n",
    "print('Max. Score:', max(metrics['scores']))\n",
    "print('Mean Last Scores:', np.mean(metrics['scores'][-50:]))"
   ]
  },
  {
   "cell_type": "code",
   "execution_count": null,
   "metadata": {},
   "outputs": [
    {
     "name": "stdout",
     "output_type": "stream",
     "text": [
      "Game 1      Score: 0\n",
      "Game 2      Score: 1\n"
     ]
    }
   ],
   "source": [
    "N0 = 1\n",
    "gamma = 0.2\n",
    "\n",
    "# define agent\n",
    "monteCarloAgent = MonteCarloAgentLFA(N0, gamma, NUM_STATES, NUM_ACTIONS, ACTION_SPACE)\n",
    "\n",
    "start = time.time()\n",
    "metrics = run_monte_carlo(monteCarloAgent, reward_function=reward_euclidean, episodes=100, speed=0, display=True, first_visit=False)\n",
    "end = time.time()\n",
    "\n",
    "plot_metrics(metrics, filepath=None)\n",
    "print('Run time:', (end-start), 'seconds')\n",
    "print('Max. Score:', max(metrics['scores']))\n",
    "print('Mean Last Scores:', np.mean(metrics['scores'][-50:]))"
   ]
  },
  {
   "cell_type": "code",
   "execution_count": null,
   "metadata": {},
   "outputs": [
    {
     "name": "stdout",
     "output_type": "stream",
     "text": [
      "Game 1      Score: 0\n",
      "Game 2      Score: 1\n"
     ]
    }
   ],
   "source": [
    "N0 = 1\n",
    "gamma = 0.5\n",
    "\n",
    "# define agent\n",
    "monteCarloAgent = MonteCarloAgentLFA(N0, gamma, NUM_STATES, NUM_ACTIONS, ACTION_SPACE)\n",
    "\n",
    "start = time.time()\n",
    "metrics = run_monte_carlo(monteCarloAgent, reward_function=reward_euclidean, episodes=100, speed=0, display=True, first_visit=False)\n",
    "end = time.time()\n",
    "\n",
    "plot_metrics(metrics, filepath=None)\n",
    "print('Run time:', (end-start), 'seconds')\n",
    "print('Max. Score:', max(metrics['scores']))\n",
    "print('Mean Last Scores:', np.mean(metrics['scores'][-50:]))"
   ]
  },
  {
   "cell_type": "code",
   "execution_count": null,
   "metadata": {},
   "outputs": [
    {
     "name": "stdout",
     "output_type": "stream",
     "text": [
      "Game 1      Score: 0\n",
      "Game 2      Score: 1\n"
     ]
    }
   ],
   "source": [
    "N0 = 1\n",
    "gamma = 1\n",
    "\n",
    "# define agent\n",
    "monteCarloAgent = MonteCarloAgentLFA(N0, gamma, NUM_STATES, NUM_ACTIONS, ACTION_SPACE)\n",
    "\n",
    "start = time.time()\n",
    "metrics = run_monte_carlo(monteCarloAgent, reward_function=reward_euclidean, episodes=100, speed=0, display=True, first_visit=False)\n",
    "end = time.time()\n",
    "\n",
    "plot_metrics(metrics, filepath=None)\n",
    "print('Run time:', (end-start), 'seconds')\n",
    "print('Max. Score:', max(metrics['scores']))\n",
    "print('Mean Last Scores:', np.mean(metrics['scores'][-50:]))"
   ]
  },
  {
   "cell_type": "markdown",
   "metadata": {},
   "source": [
    "### Every Visit"
   ]
  },
  {
   "cell_type": "code",
   "execution_count": 7,
   "metadata": {},
   "outputs": [
    {
     "name": "stdout",
     "output_type": "stream",
     "text": [
      "Game 1      Score: 0\n",
      "Game 2      Score: 1\n",
      "Game 3      Score: 0\n",
      "Game 4      Score: 1\n",
      "Game 5      Score: 1\n",
      "Game 6      Score: 1\n",
      "Game 7      Score: 0\n",
      "Game 8      Score: 0\n",
      "Game 9      Score: 0\n",
      "Game 10      Score: 1\n",
      "Game 11      Score: 1\n",
      "Game 12      Score: 0\n",
      "Game 13      Score: 1\n",
      "Game 14      Score: 5\n",
      "Game 15      Score: 1\n",
      "Game 16      Score: 2\n",
      "Game 17      Score: 0\n",
      "Game 18      Score: 0\n",
      "Game 19      Score: 1\n",
      "Game 20      Score: 1\n",
      "Game 21      Score: 1\n",
      "Game 22      Score: 0\n",
      "Game 23      Score: 0\n",
      "Game 24      Score: 0\n",
      "Game 25      Score: 0\n",
      "Game 26      Score: 0\n",
      "Game 27      Score: 0\n",
      "Game 28      Score: 0\n",
      "Game 29      Score: 2\n",
      "Game 30      Score: 3\n",
      "Game 31      Score: 1\n",
      "Game 32      Score: 1\n",
      "Game 33      Score: 1\n",
      "Game 34      Score: 1\n",
      "Game 35      Score: 1\n",
      "Game 36      Score: 1\n",
      "Game 37      Score: 1\n",
      "Game 38      Score: 3\n",
      "Game 39      Score: 2\n",
      "Game 40      Score: 1\n",
      "Game 41      Score: 0\n",
      "Game 42      Score: 0\n",
      "Game 43      Score: 0\n",
      "Game 44      Score: 0\n",
      "Game 45      Score: 1\n",
      "Game 46      Score: 0\n",
      "Game 47      Score: 2\n",
      "Game 48      Score: 0\n",
      "Game 49      Score: 2\n",
      "Game 50      Score: 0\n",
      "Game 51      Score: 0\n",
      "Game 52      Score: 0\n",
      "Game 53      Score: 0\n",
      "Game 54      Score: 0\n",
      "Game 55      Score: 0\n",
      "Game 56      Score: 0\n",
      "Game 57      Score: 0\n",
      "Game 58      Score: 0\n",
      "Game 59      Score: 0\n",
      "Game 60      Score: 0\n",
      "Game 61      Score: 0\n",
      "Game 62      Score: 0\n",
      "Game 63      Score: 0\n",
      "Game 64      Score: 0\n",
      "Game 65      Score: 0\n",
      "Game 66      Score: 0\n",
      "Game 67      Score: 0\n",
      "Game 68      Score: 0\n",
      "Game 69      Score: 0\n",
      "Game 70      Score: 0\n",
      "Game 71      Score: 0\n",
      "Game 72      Score: 0\n",
      "Game 73      Score: 0\n",
      "Game 74      Score: 0\n",
      "Game 75      Score: 0\n",
      "Game 76      Score: 0\n",
      "Game 77      Score: 0\n",
      "Game 78      Score: 0\n",
      "Game 79      Score: 0\n",
      "Game 80      Score: 0\n",
      "Game 81      Score: 0\n",
      "Game 82      Score: 0\n",
      "Game 83      Score: 0\n",
      "Game 84      Score: 0\n",
      "Game 85      Score: 0\n",
      "Game 86      Score: 1\n",
      "Game 87      Score: 0\n",
      "Game 88      Score: 0\n",
      "Game 89      Score: 0\n",
      "Game 90      Score: 0\n",
      "Game 91      Score: 0\n",
      "Game 92      Score: 0\n",
      "Game 93      Score: 0\n",
      "Game 94      Score: 0\n",
      "Game 95      Score: 0\n",
      "Game 96      Score: 0\n",
      "Game 97      Score: 0\n",
      "Game 98      Score: 0\n",
      "Game 99      Score: 0\n",
      "Game 100      Score: 0\n"
     ]
    },
    {
     "data": {
      "image/png": "[encoded data removed]",
      "text/plain": [
       "<Figure size 432x288 with 1 Axes>"
      ]
     },
     "metadata": {
      "needs_background": "light"
     },
     "output_type": "display_data"
    },
    {
     "name": "stdout",
     "output_type": "stream",
     "text": [
      "Run time: 116.60760235786438 seconds\n",
      "Max. Score: 5\n",
      "Mean Last Scores: 0.02\n"
     ]
    }
   ],
   "source": [
    "N0 = 1\n",
    "gamma = 0.2\n",
    "\n",
    "# define agent\n",
    "monteCarloAgent = MonteCarloAgentLFA(N0, gamma, NUM_STATES, NUM_ACTIONS, ACTION_SPACE)\n",
    "\n",
    "start = time.time()\n",
    "metrics = run_monte_carlo(monteCarloAgent, reward_function=default_reward, episodes=100, speed=0, display=True, first_visit=True)\n",
    "end = time.time()\n",
    "\n",
    "plot_metrics(metrics, filepath=None)\n",
    "print('Run time:', (end-start), 'seconds')\n",
    "print('Max. Score:', max(metrics['scores']))\n",
    "print('Mean Last Scores:', np.mean(metrics['scores'][-50:]))"
   ]
  },
  {
   "cell_type": "code",
   "execution_count": null,
   "metadata": {},
   "outputs": [
    {
     "name": "stdout",
     "output_type": "stream",
     "text": [
      "Game 1      Score: 0\n",
      "Game 2      Score: 1\n"
     ]
    }
   ],
   "source": [
    "N0 = 1\n",
    "gamma = 0.5\n",
    "\n",
    "# define agent\n",
    "monteCarloAgent = MonteCarloAgentLFA(N0, gamma, NUM_STATES, NUM_ACTIONS, ACTION_SPACE)\n",
    "\n",
    "start = time.time()\n",
    "metrics = run_monte_carlo(monteCarloAgent, reward_function=default_reward, episodes=100, speed=0, display=True, first_visit=True)\n",
    "end = time.time()\n",
    "\n",
    "plot_metrics(metrics, filepath=None)\n",
    "print('Run time:', (end-start), 'seconds')\n",
    "print('Max. Score:', max(metrics['scores']))\n",
    "print('Mean Last Scores:', np.mean(metrics['scores'][-50:]))"
   ]
  },
  {
   "cell_type": "code",
   "execution_count": null,
   "metadata": {},
   "outputs": [
    {
     "name": "stdout",
     "output_type": "stream",
     "text": [
      "Game 1      Score: 0\n",
      "Game 2      Score: 1\n"
     ]
    }
   ],
   "source": [
    "N0 = 1\n",
    "gamma = 1\n",
    "\n",
    "# define agent\n",
    "monteCarloAgent = MonteCarloAgentLFA(N0, gamma, NUM_STATES, NUM_ACTIONS, ACTION_SPACE)\n",
    "\n",
    "start = time.time()\n",
    "metrics = run_monte_carlo(monteCarloAgent, reward_function=default_reward, episodes=100, speed=0, display=True, first_visit=True)\n",
    "end = time.time()\n",
    "\n",
    "plot_metrics(metrics, filepath=None)\n",
    "print('Run time:', (end-start), 'seconds')\n",
    "print('Max. Score:', max(metrics['scores']))\n",
    "print('Mean Last Scores:', np.mean(metrics['scores'][-50:]))"
   ]
  },
  {
   "cell_type": "code",
   "execution_count": null,
   "metadata": {},
   "outputs": [
    {
     "name": "stdout",
     "output_type": "stream",
     "text": [
      "Game 1      Score: 0\n",
      "Game 2      Score: 1\n"
     ]
    }
   ],
   "source": [
    "N0 = 1\n",
    "gamma = 0.2\n",
    "\n",
    "# define agent\n",
    "monteCarloAgent = MonteCarloAgentLFA(N0, gamma, NUM_STATES, NUM_ACTIONS, ACTION_SPACE)\n",
    "\n",
    "start = time.time()\n",
    "metrics = run_monte_carlo(monteCarloAgent, reward_function=reward_euclidean, episodes=100, speed=0, display=True, first_visit=True)\n",
    "end = time.time()\n",
    "\n",
    "plot_metrics(metrics, filepath=None)\n",
    "print('Run time:', (end-start), 'seconds')\n",
    "print('Max. Score:', max(metrics['scores']))\n",
    "print('Mean Last Scores:', np.mean(metrics['scores'][-50:]))"
   ]
  },
  {
   "cell_type": "code",
   "execution_count": null,
   "metadata": {},
   "outputs": [
    {
     "name": "stdout",
     "output_type": "stream",
     "text": [
      "Game 1      Score: 0\n",
      "Game 2      Score: 1\n"
     ]
    }
   ],
   "source": [
    "N0 = 1\n",
    "gamma = 0.5\n",
    "\n",
    "# define agent\n",
    "monteCarloAgent = MonteCarloAgentLFA(N0, gamma, NUM_STATES, NUM_ACTIONS, ACTION_SPACE)\n",
    "\n",
    "start = time.time()\n",
    "metrics = run_monte_carlo(monteCarloAgent, reward_function=reward_euclidean, episodes=100, speed=0, display=True, first_visit=True)\n",
    "end = time.time()\n",
    "\n",
    "plot_metrics(metrics, filepath=None)\n",
    "print('Run time:', (end-start), 'seconds')\n",
    "print('Max. Score:', max(metrics['scores']))\n",
    "print('Mean Last Scores:', np.mean(metrics['scores'][-50:]))"
   ]
  },
  {
   "cell_type": "code",
   "execution_count": null,
   "metadata": {},
   "outputs": [
    {
     "name": "stdout",
     "output_type": "stream",
     "text": [
      "Game 1      Score: 0\n",
      "Game 2      Score: 1\n"
     ]
    }
   ],
   "source": [
    "N0 = 1\n",
    "gamma = 1\n",
    "\n",
    "# define agent\n",
    "monteCarloAgent = MonteCarloAgentLFA(N0, gamma, NUM_STATES, NUM_ACTIONS, ACTION_SPACE)\n",
    "\n",
    "start = time.time()\n",
    "metrics = run_monte_carlo(monteCarloAgent, reward_function=reward_euclidean, episodes=100, speed=0, display=True, first_visit=True)\n",
    "end = time.time()\n",
    "\n",
    "plot_metrics(metrics, filepath=None)\n",
    "print('Run time:', (end-start), 'seconds')\n",
    "print('Max. Score:', max(metrics['scores']))\n",
    "print('Mean Last Scores:', np.mean(metrics['scores'][-50:]))"
   ]
  }
 ],
 "metadata": {
  "kernelspec": {
   "display_name": "Python 3",
   "language": "python",
   "name": "python3"
  },
  "language_info": {
   "codemirror_mode": {
    "name": "ipython",
    "version": 3
   },
   "file_extension": ".py",
   "mimetype": "text/x-python",
   "name": "python",
   "nbconvert_exporter": "python",
   "pygments_lexer": "ipython3",
   "version": "3.7.7"
  }
 },
 "nbformat": 4,
 "nbformat_minor": 4
}
